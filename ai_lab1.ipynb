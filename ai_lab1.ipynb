{
 "cells": [
  {
   "attachments": {},
   "cell_type": "markdown",
   "metadata": {},
   "source": [
    "# Lab 1 - Algoritmi simpli"
   ]
  },
  {
   "attachments": {},
   "cell_type": "markdown",
   "metadata": {},
   "source": [
    "### 1. Să se determine ultimul (din punct de vedere alfabetic) cuvânt care poate apărea într-un text care conține mai multe cuvinte separate prin ” ” (spațiu). De ex. ultimul (dpdv alfabetic) cuvânt din ”Ana are mere rosii si galbene” este cuvântul \"si\"."
   ]
  },
  {
   "cell_type": "code",
   "execution_count": 32,
   "metadata": {},
   "outputs": [],
   "source": [
    "def last_lexicographically(text: str) -> str:\n",
    "    \"\"\"Return the last lexicographically ordered word in the given text.\n",
    "    \n",
    "    Parameters\n",
    "    ----------\n",
    "    text : str\n",
    "        The text to search.\n",
    "    \n",
    "    Returns\n",
    "    -------\n",
    "    str\n",
    "        The last lexicographically ordered word in the given text.\n",
    "    \"\"\"\n",
    "    words = text.split()\n",
    "    latest = words[0]\n",
    "    for word in words:\n",
    "        if word > latest:\n",
    "            latest = word\n",
    "    \n",
    "    return latest\n",
    "    \n"
   ]
  },
  {
   "cell_type": "code",
   "execution_count": 41,
   "metadata": {},
   "outputs": [],
   "source": [
    "# test the last_lexicographically function\n",
    "text = \"This is a test of the last lexicographically ordered word function\"\n",
    "assert(last_lexicographically(text) == \"word\")\n",
    "\n",
    "# test where the last word is the first word\n",
    "text = \"Ana are mere rosii si galbene\"\n",
    "assert(last_lexicographically(text) == \"si\")\n",
    "\n",
    "# test where the last word is the last word\n",
    "text = \"This is a test of the last lexicographically ordered word function. This is the last word\"\n",
    "assert(last_lexicographically(text) == \"word\")\n"
   ]
  },
  {
   "attachments": {},
   "cell_type": "markdown",
   "metadata": {},
   "source": [
    "The time complexity of the algorithm is **O(n * k)** where **n** is the number of words in text and **k** is the maximum length of a word.<br>\n",
    "The space complexity is **O(len)** where **len** is the number of characters in text."
   ]
  },
  {
   "attachments": {},
   "cell_type": "markdown",
   "metadata": {},
   "source": [
    "### 2. Să se determine distanța Euclideană între două locații identificate prin perechi de numere. De ex. distanța între (1,5) și (4,1) este 5.0"
   ]
  },
  {
   "cell_type": "code",
   "execution_count": 43,
   "metadata": {},
   "outputs": [],
   "source": [
    "def euclidean_distance(point1: tuple, point2: tuple) -> float:\n",
    "    \"\"\"Return the euclidean distance between two points.\n",
    "    \n",
    "    Parameters\n",
    "    ----------\n",
    "    point1 : tuple\n",
    "        The first point.\n",
    "    point2 : tuple\n",
    "        The second point.\n",
    "    \n",
    "    Returns\n",
    "    -------\n",
    "    float\n",
    "        The euclidean distance between the two points.\n",
    "    \"\"\"\n",
    "    x1 = point1[0]\n",
    "    y1 = point1[1]\n",
    "    x2 = point2[0]\n",
    "    y2 = point2[1]\n",
    "    \n",
    "    return ((x1 - x2) ** 2 + (y1 - y2) ** 2) ** 0.5"
   ]
  },
  {
   "cell_type": "code",
   "execution_count": 50,
   "metadata": {},
   "outputs": [],
   "source": [
    "point1 = (1, 1)\n",
    "point2 = (5, 4)\n",
    "assert(euclidean_distance(point1, point2) == 5.0)\n",
    "\n",
    "point1 = (1, 5)\n",
    "point2 = (4, 1)\n",
    "assert(euclidean_distance(point1, point2) == 5.0)"
   ]
  },
  {
   "attachments": {},
   "cell_type": "markdown",
   "metadata": {},
   "source": [
    "The space and time complexity is **O(1)**."
   ]
  },
  {
   "attachments": {},
   "cell_type": "markdown",
   "metadata": {},
   "source": [
    "### 3. Să se determine produsul scalar a doi vectori rari care conțin numere reale. Un vector este rar atunci când conține multe elemente nule. Vectorii pot avea oricâte dimensiuni. De ex. produsul scalar a 2 vectori unisimensionali [1,0,2,0,3] și [1,2,0,3,1] este 4."
   ]
  },
  {
   "cell_type": "code",
   "execution_count": 51,
   "metadata": {},
   "outputs": [],
   "source": [
    "def get_dot_product(dimensions: int, vector1: dict, vector2: dict) -> float:\n",
    "    \"\"\"Return the dot product of two vectors.\n",
    "    \n",
    "    Parameters\n",
    "    ----------\n",
    "    dimensions : int\n",
    "        The number of dimensions of the vectors.\n",
    "    vector1 : dict\n",
    "        The pairs of (index, value) of values different than 0 in the first vector.\n",
    "    vector2 : dict\n",
    "        The pairs of (index, value) of values different than 0 in the second vector.\n",
    "        \n",
    "    Returns\n",
    "    -------\n",
    "    float\n",
    "        The dot product of the two vectors.\n",
    "    \"\"\"\n",
    "    result = 0\n",
    "    for i in range(1, dimensions+1):\n",
    "        value1 = vector1[i] if i in vector1 else 0\n",
    "        value2 = vector2[i] if i in vector2 else 0\n",
    "        result += value1 * value2\n",
    "    return result\n",
    "    "
   ]
  },
  {
   "cell_type": "code",
   "execution_count": 53,
   "metadata": {},
   "outputs": [],
   "source": [
    "dimensions = 10\n",
    "vector1 = {1: 1, 2: 2, 3: 3}\n",
    "vector2 = {1: 1, 2: 3, 3: 1}\n",
    "assert(get_dot_product(dimensions, vector1, vector2) == 10)\n",
    "\n",
    "dimensions = 100\n",
    "vector1 = {1: 1, 10: 2, 22: 3}\n",
    "vector2 = {1: 1, 10: 3, 22: 1, 23: 1}\n",
    "assert(get_dot_product(dimensions, vector1, vector2) == 10)"
   ]
  },
  {
   "cell_type": "code",
   "execution_count": 55,
   "metadata": {},
   "outputs": [],
   "source": [
    "def read_vector(vector_name, dimensions):\n",
    "    vector = {}\n",
    "    for i in range(1, dimensions+1):\n",
    "        value = float(input(\"Give value for \"+ vector_name + \" at position \" + str(i) + \": \"))\n",
    "        if(value != 0):\n",
    "            vector[i] = value\n",
    "    return vector"
   ]
  },
  {
   "cell_type": "code",
   "execution_count": 56,
   "metadata": {},
   "outputs": [],
   "source": [
    "def print_vector(vector_name, dimensions, vector):\n",
    "    print(vector_name + \": [\", end=\"\")\n",
    "    for i in range(1, dimensions+1):\n",
    "        if i in vector:\n",
    "            print(vector[i], end=\" \")\n",
    "        else:\n",
    "            print(\"0.0\", end=\" \")\n",
    "    print(\"]\")"
   ]
  },
  {
   "cell_type": "code",
   "execution_count": 59,
   "metadata": {},
   "outputs": [],
   "source": [
    "dimensions = int(input(\"Give dimensions of the vectors: \"))\n",
    "\n",
    "vector1 = read_vector(\"vector1\", dimensions)\n",
    "vector2 = read_vector(\"vector2\", dimensions)"
   ]
  },
  {
   "cell_type": "code",
   "execution_count": 60,
   "metadata": {},
   "outputs": [
    {
     "name": "stdout",
     "output_type": "stream",
     "text": [
      "vector1: [1.0 0.0 0.2 ]\n",
      "vector2: [1.0 0.2 0.2 ]\n",
      "Dot product is: 1.04\n"
     ]
    }
   ],
   "source": [
    "print_vector(\"vector1\", dimensions, vector1)\n",
    "print_vector(\"vector2\", dimensions, vector2)\n",
    "\n",
    "dot_product = get_dot_product(dimensions, vector1, vector2)\n",
    "print(\"Dot product is: \" + str(dot_product))"
   ]
  },
  {
   "attachments": {},
   "cell_type": "markdown",
   "metadata": {},
   "source": [
    "The time complexity is **O(n)** where n is the number of dimensions.<br>\n",
    "The space complexity is **O(k)** where k is the the number of values different than 0 in the vectors."
   ]
  },
  {
   "attachments": {},
   "cell_type": "markdown",
   "metadata": {},
   "source": [
    "### 4. Să se determine cuvintele unui text care apar exact o singură dată în acel text. De ex. cuvintele care apar o singură dată în ”ana are ana are mere rosii ana\" sunt: 'mere' și 'rosii'."
   ]
  },
  {
   "cell_type": "code",
   "execution_count": 61,
   "metadata": {},
   "outputs": [],
   "source": [
    "def find_non_repeating_words(text:str )->list:\n",
    "    \"\"\"Return a list of words that appear only once in the given text.\n",
    "    \n",
    "    Parameters\n",
    "    ----------\n",
    "    text : str\n",
    "        The text to search.\n",
    "    \n",
    "    Returns\n",
    "    -------\n",
    "    list\n",
    "        A list of words that appear only once in the given text.\n",
    "    \"\"\"\n",
    "    words = text.split()\n",
    "    set = {}\n",
    "\n",
    "    for word in words:\n",
    "        if word in set:\n",
    "            set[word] += 1\n",
    "        else:\n",
    "            set[word] = 1\n",
    "    \n",
    "    results = []\n",
    "    for word in words:\n",
    "        if set[word] == 1:\n",
    "            results.append(word)\n",
    "    \n",
    "    return results"
   ]
  },
  {
   "cell_type": "code",
   "execution_count": 68,
   "metadata": {},
   "outputs": [],
   "source": [
    "text = \"This is a test of the last lexicographically ordered word function This is the last word\"\n",
    "assert(find_non_repeating_words(text) == [\"a\", \"test\", \"of\", \"lexicographically\", \"ordered\", \"function\"])\n",
    "\n",
    "text = \"ana are ana are mere rosii ana\"\n",
    "assert(find_non_repeating_words(text) == [\"mere\", \"rosii\"])"
   ]
  },
  {
   "cell_type": "code",
   "execution_count": 74,
   "metadata": {},
   "outputs": [
    {
     "name": "stdout",
     "output_type": "stream",
     "text": [
      "Text is: \n",
      "ana ar mere ar \n",
      "Words that appear a single time are: \n",
      "ana\n",
      "mere\n"
     ]
    }
   ],
   "source": [
    "print(\"Text is: \")\n",
    "word = input(\"Give a word: \")\n",
    "set = {}\n",
    "while word != \"\":\n",
    "    print(word, end=\" \")\n",
    "    if word in set:\n",
    "        set[word] += 1\n",
    "    else:\n",
    "        set[word] = 1\n",
    "    word = input(\"Give a word or 'enter' to end reading: \")\n",
    "print()\n",
    "# print words that appear a single time in the input    \n",
    "print(\"Words that appear a single time are: \")\n",
    "for word in set:\n",
    "    if set[word] == 1:\n",
    "        print(word)"
   ]
  },
  {
   "attachments": {},
   "cell_type": "markdown",
   "metadata": {},
   "source": [
    "The time complexity of the algorithm is **O(n * k)** where n is the number of words and k is the maximum length of words.<br>\n",
    "The space complexity of the algorithm is **O(n * k)**."
   ]
  },
  {
   "attachments": {},
   "cell_type": "markdown",
   "metadata": {},
   "source": [
    "### 5. Pentru un șir cu n elemente care conține valori din mulțimea {1, 2, ..., n - 1} astfel încât o singură valoare se repetă de două ori, să se identifice acea valoare care se repetă. De ex. în șirul [1,2,3,4,2] valoarea 2 apare de două ori."
   ]
  },
  {
   "cell_type": "code",
   "execution_count": 80,
   "metadata": {},
   "outputs": [],
   "source": [
    "def find_repeating_value(n: int, values: list) -> int:\n",
    "    \"\"\"Return the first value that appears more than once in the given list. \n",
    "    The list contains n values and the values are integers in the range [1, n-1].\n",
    "    \n",
    "    Parameters\n",
    "    ----------\n",
    "    n : int\n",
    "        The number of values in the list.\n",
    "    values : list\n",
    "        The list of values.\n",
    "    \n",
    "    Returns\n",
    "    -------\n",
    "    int\n",
    "        The first value that appears more than once in the given list.\n",
    "    \"\"\"\n",
    "    sum = 0\n",
    "\n",
    "    for value in values:\n",
    "        sum += value\n",
    "\n",
    "    doubled_value = int(sum - n*(n-1)/2)\n",
    "\n",
    "    return doubled_value"
   ]
  },
  {
   "cell_type": "code",
   "execution_count": 78,
   "metadata": {},
   "outputs": [],
   "source": [
    "n = 5\n",
    "values = [1, 2, 3, 4, 2]\n",
    "assert(find_repeating_value(n, values) == 2)\n",
    "\n",
    "n = 10\n",
    "values = [1, 2, 3, 4, 5, 6, 7, 8, 9, 9]\n",
    "assert(find_repeating_value(n, values) == 9)\n",
    "\n",
    "n = 100\n",
    "values = [i for i in range(1, n)]\n",
    "values.append(50)\n",
    "assert(find_repeating_value(n, values) == 50)"
   ]
  },
  {
   "cell_type": "code",
   "execution_count": 79,
   "metadata": {},
   "outputs": [
    {
     "name": "stdout",
     "output_type": "stream",
     "text": [
      "The value that appears twice in the vector is: 2\n"
     ]
    }
   ],
   "source": [
    "n = int(input(\"Give n: \"))\n",
    "sum = 0\n",
    "for i in range(1, n+1):\n",
    "    value = int(input(\"Give value for position \" + str(i) + \": \"))\n",
    "    sum += value\n",
    "\n",
    "doubled_value = int(sum - n*(n-1)/2)\n",
    "print(\"The value that appears twice in the vector is: \" + str(doubled_value))"
   ]
  },
  {
   "attachments": {},
   "cell_type": "markdown",
   "metadata": {},
   "source": [
    "The time complexity is **O(n)**.<br>\n",
    "The space complexity is **O(1)**."
   ]
  },
  {
   "attachments": {},
   "cell_type": "markdown",
   "metadata": {},
   "source": [
    "### 6. Pentru un șir cu n numere întregi care conține și duplicate, să se determine elementul majoritar (care apare de mai mult de n / 2 ori). De ex. 2 este elementul majoritar în șirul [2,8,7,2,2,5,2,3,1,2,2]."
   ]
  },
  {
   "cell_type": "code",
   "execution_count": 81,
   "metadata": {},
   "outputs": [],
   "source": [
    "def get_majority_value(n: int, values: list) -> int:\n",
    "    \"\"\"Return the majority value in the given list. \n",
    "    The list contains n values and the values are integers in the range [1, n-1].\n",
    "    \n",
    "    Parameters\n",
    "    ----------\n",
    "    n : int\n",
    "        The number of values in the list.\n",
    "    values : list\n",
    "        The list of values.\n",
    "    \n",
    "    Returns\n",
    "    -------\n",
    "    int\n",
    "        The majority value in the given list.\n",
    "    \"\"\"\n",
    "    majority = 0\n",
    "    k_appears = -1\n",
    "    for value in values:\n",
    "        if value == majority:\n",
    "            k_appears += 1\n",
    "        else:\n",
    "            k_appears -= 1\n",
    "        \n",
    "        if k_appears <= 0:\n",
    "            majority = value\n",
    "            k_appears = 1\n",
    "    \n",
    "    return majority"
   ]
  },
  {
   "cell_type": "code",
   "execution_count": 86,
   "metadata": {},
   "outputs": [],
   "source": [
    "n = 11\n",
    "values = [2, 8, 7, 2, 2, 5, 2, 3, 1, 2, 2]\n",
    "assert(get_majority_value(n, values) == 2)\n",
    "\n",
    "n = 11\n",
    "values = [2, 8, 7, 2, 2, 5, 2, 3, 1, 2, 2]\n",
    "values.sort()\n",
    "assert(get_majority_value(n, values) == 2)\n",
    "\n",
    "n = 11\n",
    "values = [2, 8, 7, 2, 2, 5, 2, 3, 1, 2, 2]\n",
    "values.sort(reverse=True)\n",
    "assert(get_majority_value(n, values) == 2)"
   ]
  },
  {
   "cell_type": "code",
   "execution_count": 113,
   "metadata": {},
   "outputs": [
    {
     "name": "stdout",
     "output_type": "stream",
     "text": [
      "The majority value is: 1\n"
     ]
    }
   ],
   "source": [
    "n = int(input(\"Give n: \"))\n",
    "majority = 0\n",
    "k_appears = -1\n",
    "for i in range(1, n+1):\n",
    "    value = int(input(\"Give value for position \" + str(i) + \": \"))\n",
    "    if value == majority:\n",
    "        k_appears += 1\n",
    "    else:\n",
    "        k_appears -= 1\n",
    "    \n",
    "    if k_appears <= 0:\n",
    "        majority = value\n",
    "        k_appears = 1\n",
    "\n",
    "print(\"The majority value is: \" + str(majority))"
   ]
  },
  {
   "attachments": {},
   "cell_type": "markdown",
   "metadata": {},
   "source": [
    "The time complexity is **O(n)**.<br>\n",
    "the space complexity is **O(1)**."
   ]
  },
  {
   "attachments": {},
   "cell_type": "markdown",
   "metadata": {},
   "source": [
    "### 7. Să se determine al k-lea cel mai mare element al unui șir de numere cu n elemente (k < n). De ex. al 2-lea cel mai mare element din șirul [7,4,6,3,9,1] este 7."
   ]
  },
  {
   "cell_type": "code",
   "execution_count": 12,
   "metadata": {},
   "outputs": [],
   "source": [
    "import heapq as hq\n",
    "\n",
    "def find_k_biggest_element(n: int, values: list, k: int) -> int:\n",
    "    \"\"\"Return the k-th biggest element in the given list. \n",
    "    The list contains n values and the values are integers in the range [1, n-1].\n",
    "    \n",
    "    Parameters\n",
    "    ----------\n",
    "    n : int\n",
    "        The number of values in the list.\n",
    "    values : list\n",
    "        The list of values.\n",
    "    k : int\n",
    "        The position of the element to be returned.\n",
    "    \n",
    "    Returns\n",
    "    -------\n",
    "    int\n",
    "        The k-th biggest element in the given list.\n",
    "    \"\"\"\n",
    "    heap = []\n",
    "\n",
    "    if k <= n//2:\n",
    "        # create a min heap with k biggest elements\n",
    "\n",
    "        for i in range(k):\n",
    "            heap.append(values[i])\n",
    "\n",
    "        hq.heapify(heap)\n",
    "\n",
    "        for i in range(k, n):\n",
    "            if values[i] > heap[0]:\n",
    "                hq.heapreplace(heap, values[i])\n",
    "        \n",
    "        return heap[0]\n",
    "    else:\n",
    "        k_before = k\n",
    "        k = n - k + 1\n",
    "        # create a max heap with k smallest elements\n",
    "        for i in range(k):\n",
    "            heap.append(-values[i])\n",
    "\n",
    "        hq.heapify(heap)\n",
    "\n",
    "        for i in range(k, n):\n",
    "            if -values[i] > heap[0]:\n",
    "                hq.heapreplace(heap, -values[i])\n",
    "    \n",
    "        return -heap[0]"
   ]
  },
  {
   "cell_type": "code",
   "execution_count": 13,
   "metadata": {},
   "outputs": [],
   "source": [
    "n = 6\n",
    "values = [7, 4, 6, 3, 9, 1]\n",
    "k = 2\n",
    "assert(find_k_biggest_element(n, values, k) == 7)\n",
    "\n",
    "\n",
    "n = 6\n",
    "values = [7, 4, 6, 3, 9, 1]\n",
    "k = 3\n",
    "assert(find_k_biggest_element(n, values, k) == 6)\n",
    "\n",
    "n = 6\n",
    "values = [7, 4, 6, 3, 9, 1]\n",
    "k = 6\n",
    "assert(find_k_biggest_element(n, values, k) == 1)\n",
    "\n",
    "\n",
    "n = 6\n",
    "values = [7, 4, 6, 3, 9, 1]\n",
    "k = 1\n",
    "assert(find_k_biggest_element(n, values, k) == 9)"
   ]
  },
  {
   "cell_type": "code",
   "execution_count": 15,
   "metadata": {},
   "outputs": [
    {
     "name": "stdout",
     "output_type": "stream",
     "text": [
      "10\n"
     ]
    }
   ],
   "source": [
    "a = 5\n",
    "a = a << 1\n",
    "print(a)"
   ]
  },
  {
   "cell_type": "code",
   "execution_count": 22,
   "metadata": {},
   "outputs": [
    {
     "name": "stdout",
     "output_type": "stream",
     "text": [
      "The 4th biggest element is: 2\n"
     ]
    }
   ],
   "source": [
    "import heapq as hq\n",
    "\n",
    "n = int(input(\"Give n: \"))\n",
    "k = int(input(\"Give k: \"))\n",
    "\n",
    "heap = []\n",
    "\n",
    "if k <= n//2:\n",
    "    # create a min heap with k biggest elements\n",
    "\n",
    "    for i in range(1, k+1):\n",
    "        value = int(input(\"Give value for position \" + str(i) + \": \"))\n",
    "        heap.append(value)\n",
    "\n",
    "    hq.heapify(heap)\n",
    "\n",
    "    for i in range(k+1, n+1):\n",
    "        value = int(input(\"Give value for position \" + str(i) + \": \"))\n",
    "        if value > heap[0]:\n",
    "            hq.heapreplace(heap, value)\n",
    "    \n",
    "    # print the smallest element in the heap\n",
    "    print(\"The \"+ str(k) + \"th biggest element is: \" + str(heap[0]))\n",
    "\n",
    "else:\n",
    "    k_before = k\n",
    "    k = n - k + 1\n",
    "    # create a max heap with k smallest elements\n",
    "    for i in range(1, k+1):\n",
    "        value = -int(input(\"Give value for position \" + str(i) + \": \"))\n",
    "        heap.append(value)\n",
    "\n",
    "    hq.heapify(heap)\n",
    "\n",
    "    for i in range(k+1, n+1):\n",
    "        value = -int(input(\"Give value for position \" + str(i) + \": \"))\n",
    "        if value > heap[0]:\n",
    "            hq.heapreplace(heap, value)\n",
    "    \n",
    "    # print the smallest element in the heap\n",
    "    print(\"The \"+ str(k_before) + \"th biggest element is: \" + str(-heap[0]))"
   ]
  },
  {
   "attachments": {},
   "cell_type": "markdown",
   "metadata": {},
   "source": [
    "The time complexity is **O(n * log min(k, n-k) )** because we are using a min heap of k elements if k $\\le$ n/2 or a max heap of n-k+1 elements accordingly if k $\\gt$ n/2. <br>\n",
    "The space complexity is **O(min(k, n-k))**."
   ]
  },
  {
   "attachments": {},
   "cell_type": "markdown",
   "metadata": {},
   "source": [
    "### 8. Să se genereze toate numerele (în reprezentare binară) cuprinse între 1 și n. De ex. dacă n = 4, numerele sunt: 1, 10, 11, 100."
   ]
  },
  {
   "cell_type": "code",
   "execution_count": 91,
   "metadata": {},
   "outputs": [],
   "source": [
    "def generate_binary_representation(n: int) -> list:\n",
    "    \"\"\"Return a list with the binary representation of the numbers from 1 to n.\n",
    "    \n",
    "    Parameters\n",
    "    ----------\n",
    "    n : int\n",
    "        The number of values in the list.\n",
    "    \n",
    "    Returns\n",
    "    -------\n",
    "    list\n",
    "        A list with the binary representation of the numbers from 1 to n.\n",
    "    \"\"\"\n",
    "    binary_representation = []\n",
    "    mystr = \"1\"\n",
    "    val = 1\n",
    "    back = 0\n",
    "    k = 0\n",
    "    while k < n:\n",
    "        if back == 0: # current node has not been visited\n",
    "            if  val > n:\n",
    "                mystr = mystr[:-1]\n",
    "                val //= 2\n",
    "                back = 2\n",
    "            else:\n",
    "                binary_representation.append(mystr)\n",
    "                k += 1\n",
    "                mystr += \"0\"\n",
    "                val *= 2\n",
    "        elif back == 1: # came back from left child after successful visit\n",
    "            mystr += \"1\"\n",
    "            val = val * 2 + 1\n",
    "            back = 0\n",
    "        elif back == 2: # came back from right child or an unsuccessful visit\n",
    "            mystr = mystr[:-1]\n",
    "            back = val % 2 + 1\n",
    "            val //= 2\n",
    "    \n",
    "    return binary_representation"
   ]
  },
  {
   "cell_type": "code",
   "execution_count": 95,
   "metadata": {},
   "outputs": [],
   "source": [
    "n = 10\n",
    "assert(generate_binary_representation(n).sort() == ['1', '10', '11', '100', '101', '110', '111', '1000', '1001', '1010'].sort())\n",
    "\n",
    "n = 4\n",
    "assert(generate_binary_representation(n).sort() == ['1', '10', '11', '100'].sort())\n"
   ]
  },
  {
   "cell_type": "code",
   "execution_count": null,
   "metadata": {},
   "outputs": [],
   "source": [
    "# generate all numbers from 1 to n in binary representation in best complexity\n",
    "n = int(input(\"Give n: \"))\n",
    "print(\"The binary representation of numbers from 1 to \" + str(n) + \" are: \")\n",
    "mystr = \"1\"\n",
    "val = 1\n",
    "back = 0\n",
    "k = 0\n",
    "while k < n:\n",
    "    if back == 0: # current node has not been visited\n",
    "        if  val > n:\n",
    "            mystr = mystr[:-1]\n",
    "            val //= 2\n",
    "            back = 2\n",
    "        else:\n",
    "            print(str(val) + \"-\" + mystr)\n",
    "            k += 1\n",
    "            mystr += \"0\"\n",
    "            val *= 2\n",
    "    elif back == 1: # came back from left child after successful visit\n",
    "        mystr += \"1\"\n",
    "        val = val * 2 + 1\n",
    "        back = 0\n",
    "    elif back == 2: # came back from right child or an unsuccessful visit\n",
    "        mystr = mystr[:-1]\n",
    "        back = val % 2 + 1\n",
    "        val //= 2"
   ]
  },
  {
   "attachments": {},
   "cell_type": "markdown",
   "metadata": {},
   "source": [
    "The time complexity is **O(n * log n)**.<br>\n",
    "The space complexity is **O(1)** or **O(n)** if we count output array."
   ]
  },
  {
   "attachments": {},
   "cell_type": "markdown",
   "metadata": {},
   "source": [
    "### 9. Considerându-se o matrice cu n x m elemente întregi și o listă cu perechi formate din coordonatele a 2 căsuțe din matrice ((p,q) și (r,s)), să se calculeze suma elementelor din sub-matricile identificate de fieare pereche."
   ]
  },
  {
   "cell_type": "code",
   "execution_count": 100,
   "metadata": {},
   "outputs": [],
   "source": [
    "def calculate_sub_matrix_sums(n:int, m:int, matrix:list, sub_matrix_indexes: list) -> list:\n",
    "    \"\"\"Calculate the sum of the sub-matrices from the given matrix.\n",
    "\n",
    "    Parameters\n",
    "    ----------\n",
    "    n : int\n",
    "        The number of rows in the matrix.\n",
    "    m : int\n",
    "        The number of columns in the matrix.\n",
    "    matrix : list\n",
    "        The matrix.\n",
    "    sub_matrix_indexes : list\n",
    "        A list of lists, each list containing the indexes of the sub-matrix.\n",
    "\n",
    "    Returns\n",
    "    -------\n",
    "    list\n",
    "        A list containing the sum of the sub-matrices.\n",
    "    \"\"\"\n",
    "    # using dynammic programming, calculate the partial sums of the matrix\n",
    "    partial_sums = []\n",
    "    for i in range(1, n+1):\n",
    "        row = []\n",
    "        for j in range(1, m+1):\n",
    "            row.append(matrix[i-1][j-1])\n",
    "        partial_sums.append(row)\n",
    "\n",
    "    for i in range(1, n+1):\n",
    "        for j in range(1, m+1):\n",
    "            partial_sums[i-1][j-1] += partial_sums[i-1][j-2] if j-2 >= 0 else 0\n",
    "            partial_sums[i-1][j-1] += partial_sums[i-2][j-1] if i-2 >= 0 else 0\n",
    "            partial_sums[i-1][j-1] -= partial_sums[i-2][j-2] if i-2 >= 0 and j-2 >= 0 else 0\n",
    "\n",
    "    sub_matrix_sums = []\n",
    "    # for each pair of points, calculate the sum of the elements in the rectangle defined by the 2 points\n",
    "    for pair in sub_matrix_indexes:\n",
    "        x1, y1 = pair[0]\n",
    "        x2, y2 = pair[1]\n",
    "        x1 -= 1\n",
    "        y1 -= 1\n",
    "\n",
    "        sum = partial_sums[x2-1][y2-1]\n",
    "        sum -= partial_sums[x1-1][y2-1] if x1-1 >= 0 else 0\n",
    "        sum -= partial_sums[x2-1][y1-1] if y1-1 >= 0 else 0\n",
    "        sum += partial_sums[x1-1][y1-1] if x1-1 >= 0 and y1-1 >= 0 else 0\n",
    "\n",
    "        # print the sum of the elements in the rectangle defined by the 2 points\n",
    "        sub_matrix_sums.append(sum)\n",
    "    return sub_matrix_sums"
   ]
  },
  {
   "cell_type": "code",
   "execution_count": 104,
   "metadata": {},
   "outputs": [],
   "source": [
    "import random\n",
    "\n",
    "def generate_random_matrix(n: int, m: int) -> list:\n",
    "    matrix = []\n",
    "    for i in range(1, n+1):\n",
    "        row = []\n",
    "        for j in range(1, m+1):\n",
    "            row.append(random.randint(0, 10))\n",
    "        matrix.append(row)\n",
    "    return matrix\n",
    "    \n",
    "def generate_random_list_of_coordinates(k: int, n: int, m: int) -> list:\n",
    "    coordinates = []\n",
    "    for i in range(k):\n",
    "        x1 = random.randint(1, n)\n",
    "        y1 = random.randint(1, m)\n",
    "        x2 = random.randint(x1, n)\n",
    "        y2 = random.randint(y1, m)\n",
    "        coordinates.append([(x1, y1), (x2, y2)])\n",
    "    return coordinates\n",
    "\n",
    "def get_actual_sum(n: int, m: int, matrix: list, sub_matrix_indexes: list) -> list:\n",
    "    sub_matrix_sums = []\n",
    "    for pair in sub_matrix_indexes:\n",
    "        x1, y1 = pair[0]\n",
    "        x2, y2 = pair[1]\n",
    "        sum = 0\n",
    "        for i in range(x1-1, x2):\n",
    "            for j in range(y1-1, y2):\n",
    "                sum += matrix[i][j]\n",
    "        sub_matrix_sums.append(sum)\n",
    "    return sub_matrix_sums\n"
   ]
  },
  {
   "cell_type": "code",
   "execution_count": 107,
   "metadata": {},
   "outputs": [],
   "source": [
    "n = 10\n",
    "m = 10\n",
    "k = 10\n",
    "matrix = generate_random_matrix(n, m)\n",
    "list_of_coordinates = generate_random_list_of_coordinates(k, n, m)\n",
    "sub_matrix_sums = calculate_sub_matrix_sums(n, m, matrix, list_of_coordinates)\n",
    "assert(sub_matrix_sums.sort() == get_actual_sum(n, m, matrix, list_of_coordinates).sort())\n",
    "\n",
    "n = 100\n",
    "m = 100\n",
    "k = 100\n",
    "matrix = generate_random_matrix(n, m)\n",
    "list_of_coordinates = generate_random_list_of_coordinates(k, n, m)\n",
    "sub_matrix_sums = calculate_sub_matrix_sums(n, m, matrix, list_of_coordinates)\n",
    "assert(sub_matrix_sums.sort() == get_actual_sum(n, m, matrix, list_of_coordinates).sort())"
   ]
  },
  {
   "cell_type": "code",
   "execution_count": 9,
   "metadata": {},
   "outputs": [
    {
     "name": "stdout",
     "output_type": "stream",
     "text": [
      "The matrix is: \n",
      "8 1 1 5 \n",
      "0 8 6 6 \n",
      "4 7 8 9 \n",
      "4 4 6 0 \n"
     ]
    }
   ],
   "source": [
    "import random\n",
    "\n",
    "n = int(input(\"Give n: \"))\n",
    "m = int(input(\"Give m: \"))\n",
    "\n",
    "# generate a matrix of random integers of size n x m\n",
    "matrix = []\n",
    "for i in range(1, n+1):\n",
    "    row = []\n",
    "    for j in range(1, m+1):\n",
    "        row.append(random.randint(0, 10))\n",
    "    matrix.append(row)\n",
    "\n",
    "# print the matrix\n",
    "print(\"The matrix is: \")\n",
    "for i in range(1, n+1):\n",
    "    for j in range(1, m+1):\n",
    "        print(matrix[i-1][j-1], end=\" \")\n",
    "    print()"
   ]
  },
  {
   "cell_type": "code",
   "execution_count": 10,
   "metadata": {},
   "outputs": [
    {
     "name": "stdout",
     "output_type": "stream",
     "text": [
      "Give pairs of 2D points: \n",
      "The list of pairs of points is: \n",
      "[((1, 1), (4, 4)), ((2, 2), (3, 3))]\n"
     ]
    }
   ],
   "source": [
    "# read a list of pairs of 2 2D points and calculate the distance between them until the user enters an empty line\n",
    "print(\"Give pairs of 2D points: \")\n",
    "x1 = \"not empty\"\n",
    "\n",
    "list_of_coordinates = []\n",
    "\n",
    "while x1 != \"\":\n",
    "    x1 = input(\"Give x1 or enter to end reading: \")\n",
    "    if x1 == \"\":\n",
    "        break\n",
    "    x1 = int(x1)\n",
    "    y1 = int(input(\"Give y1: \"))\n",
    "    x2 = int(input(\"Give x2: \"))\n",
    "    y2 = int(input(\"Give y2: \"))\n",
    "\n",
    "    list_of_coordinates.append(((x1, y1), (x2, y2)))\n",
    "\n",
    "# print the list of pairs of points\n",
    "print(\"The list of pairs of points is: \")\n",
    "print(list_of_coordinates)"
   ]
  },
  {
   "cell_type": "code",
   "execution_count": 11,
   "metadata": {},
   "outputs": [],
   "source": [
    "# using dynammic programming, calculate the partial sums of the matrix\n",
    "partial_sums = []\n",
    "for i in range(1, n+1):\n",
    "    row = []\n",
    "    for j in range(1, m+1):\n",
    "        row.append(matrix[i-1][j-1])\n",
    "    partial_sums.append(row)\n",
    "\n",
    "for i in range(1, n+1):\n",
    "    for j in range(1, m+1):\n",
    "        partial_sums[i-1][j-1] += partial_sums[i-1][j-2] if j-2 >= 0 else 0\n",
    "        partial_sums[i-1][j-1] += partial_sums[i-2][j-1] if i-2 >= 0 else 0\n",
    "        partial_sums[i-1][j-1] -= partial_sums[i-2][j-2] if i-2 >= 0 and j-2 >= 0 else 0"
   ]
  },
  {
   "cell_type": "code",
   "execution_count": 13,
   "metadata": {},
   "outputs": [
    {
     "name": "stdout",
     "output_type": "stream",
     "text": [
      "The sum of the elements in the rectangle defined by the 2 points (1, 1) and (4, 4) is: 77\n",
      "The sum of the elements in the rectangle defined by the 2 points (2, 2) and (3, 3) is: 29\n"
     ]
    }
   ],
   "source": [
    "# for each pair of points, calculate the sum of the elements in the rectangle defined by the 2 points\n",
    "for pair in list_of_coordinates:\n",
    "    x1, y1 = pair[0]\n",
    "    x2, y2 = pair[1]\n",
    "    x1 -= 1\n",
    "    y1 -= 1\n",
    "\n",
    "    sum = partial_sums[x2-1][y2-1]\n",
    "    sum -= partial_sums[x1-1][y2-1] if x1-1 >= 0 else 0\n",
    "    sum -= partial_sums[x2-1][y1-1] if y1-1 >= 0 else 0\n",
    "    sum += partial_sums[x1-1][y1-1] if x1-1 >= 0 and y1-1 >= 0 else 0\n",
    "\n",
    "    # print the sum of the elements in the rectangle defined by the 2 points\n",
    "    print(\"The sum of the elements in the rectangle defined by the 2 points \" + str(pair[0]) + \" and \" + str(pair[1]) + \" is: \" + str(sum))"
   ]
  },
  {
   "attachments": {},
   "cell_type": "markdown",
   "metadata": {},
   "source": [
    "The time complexity is **O(n * m + k)** where k is the number of sub-matrixes given.<br>\n",
    "the space complexity is **O(n * m + k)**."
   ]
  },
  {
   "attachments": {},
   "cell_type": "markdown",
   "metadata": {},
   "source": [
    "### 10. Considerându-se o matrice cu n x m elemente binare (0 sau 1) sortate crescător pe linii, să se identifice indexul liniei care conține cele mai multe elemente de 1."
   ]
  },
  {
   "cell_type": "code",
   "execution_count": 11,
   "metadata": {},
   "outputs": [],
   "source": [
    "def get_row_with_max_no_ones(n: int, m: int, matrix: list) -> int:\n",
    "    # identify the row which has the most 1s\n",
    "    max_ones = -1\n",
    "    max_ones_row = -1\n",
    "\n",
    "    for i in range(1, n+1):\n",
    "        for j in range(1, m+1):\n",
    "            if matrix[i-1][j-1] == 1:\n",
    "                ones = m - j + 1\n",
    "                if ones > max_ones:\n",
    "                    max_ones = ones\n",
    "                    max_ones_row = i\n",
    "                break\n",
    "\n",
    "    return max_ones_row"
   ]
  },
  {
   "cell_type": "code",
   "execution_count": 9,
   "metadata": {},
   "outputs": [],
   "source": [
    "def get_row_with_max_no_ones_binary(n: int, m: int, matrix: list) -> int:\n",
    "    # identify the row which has the most 1s\n",
    "    max_ones = -1\n",
    "    max_ones_row = -1\n",
    "\n",
    "    for i in range(1, n+1):\n",
    "        #binary search for the first 1\n",
    "        left = 0\n",
    "        right = m-1\n",
    "        while left <= right:\n",
    "            mid = (left + right) // 2\n",
    "            if matrix[i-1][mid] == 1:\n",
    "                right = mid - 1\n",
    "            else:\n",
    "                left = mid + 1\n",
    "        \n",
    "        ones = m - left\n",
    "        if ones > max_ones:\n",
    "            max_ones = ones\n",
    "            max_ones_row = i\n",
    "\n",
    "    return max_ones_row"
   ]
  },
  {
   "cell_type": "code",
   "execution_count": 7,
   "metadata": {},
   "outputs": [],
   "source": [
    "import random\n",
    "def generate_random_binary_matrix(n: int, m: int) -> list:\n",
    "    matrix = []\n",
    "    for i in range(1, n+1):\n",
    "        row = []\n",
    "        for j in range(1, m+1):\n",
    "            row.append(random.randint(0, 1))\n",
    "        row.sort()\n",
    "        matrix.append(row)\n",
    "    return matrix\n",
    "\n",
    "def get_actual_row_with_max_no_ones(n: int, m: int, matrix: list) -> int:\n",
    "    max_ones = -1\n",
    "    max_ones_row = -1\n",
    "\n",
    "    for i in range(1, n+1):\n",
    "        ones = 0\n",
    "        for j in range(1, m+1):\n",
    "            if matrix[i-1][j-1] == 1:\n",
    "                ones += 1\n",
    "        if ones > max_ones:\n",
    "            max_ones = ones\n",
    "            max_ones_row = i\n",
    "\n",
    "    return max_ones_row"
   ]
  },
  {
   "cell_type": "code",
   "execution_count": 12,
   "metadata": {},
   "outputs": [],
   "source": [
    "n = 10\n",
    "m = 10\n",
    "matrix = generate_random_binary_matrix(n, m)\n",
    "assert(get_row_with_max_no_ones(n, m, matrix) == get_actual_row_with_max_no_ones(n, m, matrix))\n",
    "assert(get_row_with_max_no_ones_binary(n, m, matrix) == get_actual_row_with_max_no_ones(n, m, matrix))\n",
    "\n",
    "\n",
    "n = 100\n",
    "m = 100\n",
    "matrix = generate_random_binary_matrix(n, m)\n",
    "assert(get_row_with_max_no_ones(n, m, matrix) == get_actual_row_with_max_no_ones(n, m, matrix))\n",
    "assert(get_row_with_max_no_ones_binary(n, m, matrix) == get_actual_row_with_max_no_ones(n, m, matrix))"
   ]
  },
  {
   "cell_type": "code",
   "execution_count": 20,
   "metadata": {},
   "outputs": [
    {
     "name": "stdout",
     "output_type": "stream",
     "text": [
      "The matrix is: \n",
      "0 0 0 1 1 1 1 1 1 1 \n",
      "0 0 0 0 0 0 1 1 1 1 \n",
      "0 0 0 0 0 1 1 1 1 1 \n",
      "0 0 0 0 0 0 1 1 1 1 \n",
      "0 0 0 0 0 0 1 1 1 1 \n",
      "0 0 1 1 1 1 1 1 1 1 \n",
      "0 0 0 0 1 1 1 1 1 1 \n",
      "0 0 0 0 0 1 1 1 1 1 \n",
      "0 0 0 0 0 1 1 1 1 1 \n",
      "0 0 1 1 1 1 1 1 1 1 \n"
     ]
    }
   ],
   "source": [
    "# generate a matrix of random binary values of size n x m\n",
    "n = int(input(\"Give n: \"))\n",
    "m = int(input(\"Give m: \"))\n",
    "\n",
    "matrix = []\n",
    "for i in range(1, n+1):\n",
    "    row = []\n",
    "    for j in range(1, m+1):\n",
    "        row.append(random.randint(0, 1))\n",
    "    row.sort()\n",
    "    matrix.append(row)\n",
    "\n",
    "# print the matrix\n",
    "print(\"The matrix is: \")\n",
    "for i in range(1, n+1):\n",
    "    for j in range(1, m+1):\n",
    "        print(matrix[i-1][j-1], end=\" \")\n",
    "    print()"
   ]
  },
  {
   "cell_type": "code",
   "execution_count": 21,
   "metadata": {},
   "outputs": [
    {
     "name": "stdout",
     "output_type": "stream",
     "text": [
      "The row which has the most 1s is: 6 with 8 1s\n"
     ]
    }
   ],
   "source": [
    "# identify the row which has the most 1s\n",
    "max_ones = -1\n",
    "max_ones_row = -1\n",
    "\n",
    "for i in range(1, n+1):\n",
    "    for j in range(1, m+1):\n",
    "        if matrix[i-1][j-1] == 1:\n",
    "            ones = m - j + 1\n",
    "            if ones > max_ones:\n",
    "                max_ones = ones\n",
    "                max_ones_row = i\n",
    "            break\n",
    "\n",
    "# print the row which has the most 1s\n",
    "print(\"The row which has the most 1s is: \" + str(max_ones_row) + \" with \"  + str(max_ones) + \" 1s\")"
   ]
  },
  {
   "attachments": {},
   "cell_type": "markdown",
   "metadata": {},
   "source": [
    "The time complexity is **O(n*m)**.<br>\n",
    "The additional space complexity is **O(1)**."
   ]
  },
  {
   "attachments": {},
   "cell_type": "markdown",
   "metadata": {},
   "source": [
    "### 11. Considerându-se o matrice cu n x m elemente binare (0 sau 1), să se înlocuiască cu 1 toate aparițiile elementelor egale cu 0 care sunt complet înconjurate de 1."
   ]
  },
  {
   "cell_type": "code",
   "execution_count": 125,
   "metadata": {},
   "outputs": [],
   "source": [
    "def fill_with_2(matrix, i, j):\n",
    "    if i < 0 or j < 0 or i >= len(matrix) or j >= len(matrix[0]) or matrix[i][j] != 0:\n",
    "        return\n",
    "\n",
    "    matrix[i][j] = 2\n",
    "\n",
    "    fill_with_2(matrix, i-1, j)\n",
    "    fill_with_2(matrix, i+1, j)\n",
    "    fill_with_2(matrix, i, j-1)\n",
    "    fill_with_2(matrix, i, j+1)\n",
    "\n",
    "def replace_islands_of_zeros(n: int, m: int, matrix: list) -> list:\n",
    "    \"\"\" Replace islands of zeros with ones. \n",
    "\n",
    "    Parameters\n",
    "    ----------\n",
    "    n : int\n",
    "        The number of rows in the matrix.\n",
    "    m : int\n",
    "        The number of columns in the matrix.\n",
    "    matrix : list\n",
    "        The matrix.\n",
    "\n",
    "    Returns\n",
    "    -------\n",
    "    list\n",
    "        The matrix with islands of zeros replaced with ones.\n",
    "    \"\"\"\n",
    "    for i in range(1, n+1):\n",
    "        for j in range(1, m+1):\n",
    "            if matrix[i-1][j-1] == 0 and (i == 1 or i == n or j == 1 or j == m):\n",
    "                fill_with_2(matrix, i-1, j-1)\n",
    "\n",
    "    for i in range(1, n+1):\n",
    "        for j in range(1, m+1):\n",
    "            if matrix[i-1][j-1] == 0:\n",
    "                matrix[i-1][j-1] = 1\n",
    "            elif matrix[i-1][j-1] == 2:\n",
    "                matrix[i-1][j-1] = 0\n",
    "\n",
    "    return matrix\n"
   ]
  },
  {
   "cell_type": "code",
   "execution_count": 134,
   "metadata": {},
   "outputs": [],
   "source": [
    "import numpy as np\n",
    "\n",
    "def generate_islands_of_zeros(n: int, m: int) -> list:\n",
    "    matrix = np.ones((n, m), dtype=int).tolist()\n",
    "    matrix[1][1] = 0\n",
    "    matrix[1][2] = 0\n",
    "    matrix[2][1] = 0\n",
    "    matrix[n-2][m-2] = 0\n",
    "    matrix[0][0] = 0\n",
    "    return matrix\n",
    "\n",
    "def get_actual_islands_of_zeros(n: int, m: int, matrix: list) -> list:\n",
    "    matrix[1][1] = 1\n",
    "    matrix[1][2] = 1\n",
    "    matrix[2][1] = 1\n",
    "    matrix[n-2][m-2] = 1\n",
    "    return matrix"
   ]
  },
  {
   "cell_type": "code",
   "execution_count": 135,
   "metadata": {},
   "outputs": [],
   "source": [
    "n = 10\n",
    "m = 10\n",
    "matrix = generate_islands_of_zeros(n, m)\n",
    "assert(replace_islands_of_zeros(n, m, matrix) == get_actual_islands_of_zeros(n, m, matrix))"
   ]
  },
  {
   "cell_type": "code",
   "execution_count": 138,
   "metadata": {},
   "outputs": [
    {
     "name": "stdout",
     "output_type": "stream",
     "text": [
      "The matrix is: \n",
      "1 1 0 1 1 1 0 0 1 1 \n",
      "0 1 1 1 1 0 0 1 1 1 \n",
      "1 1 1 1 1 0 1 1 1 1 \n",
      "1 1 1 1 1 1 1 0 0 1 \n",
      "1 1 1 0 1 1 0 1 1 1 \n",
      "1 1 1 1 1 1 1 1 1 0 \n",
      "1 1 1 1 1 1 0 1 1 1 \n",
      "1 1 1 1 0 1 1 1 1 1 \n",
      "1 1 0 1 1 1 1 1 1 1 \n",
      "1 1 1 0 0 1 0 1 0 1 \n"
     ]
    }
   ],
   "source": [
    "n = int(input(\"Give n: \"))\n",
    "m = int(input(\"Give m: \"))\n",
    "\n",
    "# generate a matrix of random binary values of size n x m\n",
    "matrix = []\n",
    "for i in range(1, n+1):\n",
    "    row = []\n",
    "    for j in range(1, m+1):\n",
    "        row.append(int(random.randint(0, 3) > 0))\n",
    "    matrix.append(row)\n",
    "\n",
    "# print the matrix\n",
    "print(\"The matrix is: \")\n",
    "for i in range(1, n+1):\n",
    "    for j in range(1, m+1):\n",
    "        print(matrix[i-1][j-1], end=\" \")\n",
    "    print()"
   ]
  },
  {
   "cell_type": "code",
   "execution_count": 139,
   "metadata": {},
   "outputs": [
    {
     "name": "stdout",
     "output_type": "stream",
     "text": [
      "The matrix is: \n",
      "1 1 0 1 1 1 0 0 1 1 \n",
      "0 1 1 1 1 0 0 1 1 1 \n",
      "1 1 1 1 1 0 1 1 1 1 \n",
      "1 1 1 1 1 1 1 1 1 1 \n",
      "1 1 1 1 1 1 1 1 1 1 \n",
      "1 1 1 1 1 1 1 1 1 0 \n",
      "1 1 1 1 1 1 1 1 1 1 \n",
      "1 1 1 1 1 1 1 1 1 1 \n",
      "1 1 1 1 1 1 1 1 1 1 \n",
      "1 1 1 0 0 1 0 1 0 1 \n"
     ]
    }
   ],
   "source": [
    "for i in range(1, n+1):\n",
    "    for j in range(1, m+1):\n",
    "        if matrix[i-1][j-1] == 0 and (i == 1 or i == n or j == 1 or j == m):\n",
    "            fill_with_2(matrix, i-1, j-1)\n",
    "\n",
    "for i in range(1, n+1):\n",
    "    for j in range(1, m+1):\n",
    "        if matrix[i-1][j-1] == 0:\n",
    "            matrix[i-1][j-1] = 1\n",
    "        elif matrix[i-1][j-1] == 2:\n",
    "            matrix[i-1][j-1] = 0\n",
    "\n",
    "# print the matrix\n",
    "print(\"The matrix is: \")\n",
    "for i in range(1, n+1):\n",
    "    for j in range(1, m+1):\n",
    "        print(matrix[i-1][j-1], end=\" \")\n",
    "    print()\n"
   ]
  },
  {
   "attachments": {},
   "cell_type": "markdown",
   "metadata": {},
   "source": [
    "Time complexity is **O(n * m)**. <br>\n",
    "Space complexity is **O(n * m)**."
   ]
  }
 ],
 "metadata": {
  "kernelspec": {
   "display_name": "myPythonEnvironment",
   "language": "python",
   "name": "python3"
  },
  "language_info": {
   "codemirror_mode": {
    "name": "ipython",
    "version": 3
   },
   "file_extension": ".py",
   "mimetype": "text/x-python",
   "name": "python",
   "nbconvert_exporter": "python",
   "pygments_lexer": "ipython3",
   "version": "3.10.9"
  },
  "orig_nbformat": 4
 },
 "nbformat": 4,
 "nbformat_minor": 2
}
